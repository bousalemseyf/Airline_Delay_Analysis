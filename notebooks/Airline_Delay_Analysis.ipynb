{
 "cells": [
  {
   "cell_type": "markdown",
   "id": "019f8b0c-051b-47a7-85f1-052cec2e59e1",
   "metadata": {},
   "source": [
    "# ✈️ Airline On-Time Performance & Delays Analysis\n",
    "_A real-world data analytics project using Python, Pandas, SQL, and Tableau_\n"
   ]
  },
  {
   "cell_type": "markdown",
   "id": "72429b95-794e-49d0-b7b7-f22373aff77b",
   "metadata": {},
   "source": [
    "## 1. Project Objective\n",
    "\n",
    "In this project, we analyze U.S. domestic airline performance data for Jan–Mar 2025.\n",
    "We aim to identify the main factors contributing to flight delays and cancellations,\n",
    "and provide actionable insights to help airlines and airports improve on-time performance.\n"
   ]
  },
  {
   "cell_type": "markdown",
   "id": "43e9733e-56be-4114-ae8b-c58352a4d322",
   "metadata": {},
   "source": [
    "## 2. Import Libraries\n",
    "\n",
    "We start by importing all necessary Python libraries.\n"
   ]
  },
  {
   "cell_type": "code",
   "execution_count": 16,
   "id": "50fff61f-7adc-4c12-8b15-0502f748e0e0",
   "metadata": {},
   "outputs": [],
   "source": [
    "import pandas as pd\n",
    "import os\n"
   ]
  },
  {
   "cell_type": "markdown",
   "id": "bf615ff0-e74b-4307-b64f-ccd423ee70a0",
   "metadata": {},
   "source": [
    "## 3. Set Working Directory\n",
    "\n",
    "To ensure we read our data correctly, we set the working directory to our project folder.\n"
   ]
  },
  {
   "cell_type": "code",
   "execution_count": 9,
   "id": "28225d82-b579-4605-9df9-36ed5ff4caf7",
   "metadata": {},
   "outputs": [
    {
     "name": "stdout",
     "output_type": "stream",
     "text": [
      "C:\\Users\\Lenovo\\Desktop\\ProjectsAirline_Delay_Project\n"
     ]
    }
   ],
   "source": [
    "import os\n",
    "\n",
    "os.chdir(r'C:\\Users\\Lenovo\\Desktop\\ProjectsAirline_Delay_Project')\n",
    "\n",
    "print(os.getcwd())  # Should now show the correct folder!\n"
   ]
  },
  {
   "cell_type": "markdown",
   "id": "6ace8569-7a46-40fb-9fa3-6ccfff5f2ac0",
   "metadata": {},
   "source": [
    "## 4. Load Data\n",
    "\n",
    "Load the raw airline delay data from the `data` folder.\n"
   ]
  },
  {
   "cell_type": "code",
   "execution_count": 11,
   "id": "c5b29b8d-864b-45d8-a7e2-5284b4ca2890",
   "metadata": {},
   "outputs": [
    {
     "name": "stdout",
     "output_type": "stream",
     "text": [
      "   year  month carrier                             carrier_name airport  \\\n",
      "0  2025      3      G7  GoJet Airlines LLC d/b/a United Express     ICT   \n",
      "1  2025      3      G7  GoJet Airlines LLC d/b/a United Express     ILM   \n",
      "2  2025      3      G7  GoJet Airlines LLC d/b/a United Express     IND   \n",
      "3  2025      3      G7  GoJet Airlines LLC d/b/a United Express     ITH   \n",
      "4  2025      3      G7  GoJet Airlines LLC d/b/a United Express     LEX   \n",
      "\n",
      "                                        airport_name  arr_flights  arr_del15  \\\n",
      "0  Wichita, KS: Wichita Dwight D Eisenhower National         27.0       11.0   \n",
      "1           Wilmington, NC: Wilmington International         57.0       16.0   \n",
      "2       Indianapolis, IN: Indianapolis International          6.0        2.0   \n",
      "3  Ithaca/Cortland, NY: Ithaca Tompkins Internati...         48.0       16.0   \n",
      "4                          Lexington, KY: Blue Grass         89.0       18.0   \n",
      "\n",
      "   carrier_ct  weather_ct  ...  security_ct  late_aircraft_ct  arr_cancelled  \\\n",
      "0        3.48         1.0  ...          0.0              4.93            0.0   \n",
      "1        7.03         0.9  ...          0.0              4.94            0.0   \n",
      "2        0.00         0.0  ...          0.0              0.00            0.0   \n",
      "3        6.63         0.0  ...          0.0              7.52            0.0   \n",
      "4        2.86         0.0  ...          0.0             13.31            0.0   \n",
      "\n",
      "   arr_diverted  arr_delay  carrier_delay  weather_delay  nas_delay  \\\n",
      "0           0.0      989.0          253.0          100.0       91.0   \n",
      "1           0.0     1861.0          512.0          744.0       88.0   \n",
      "2           0.0       50.0            0.0            0.0       50.0   \n",
      "3           0.0     1411.0          542.0            0.0      110.0   \n",
      "4           0.0     2878.0          809.0            0.0       92.0   \n",
      "\n",
      "   security_delay  late_aircraft_delay  \n",
      "0             0.0                545.0  \n",
      "1             0.0                517.0  \n",
      "2             0.0                  0.0  \n",
      "3             0.0                759.0  \n",
      "4             0.0               1977.0  \n",
      "\n",
      "[5 rows x 21 columns]\n",
      "<class 'pandas.core.frame.DataFrame'>\n",
      "RangeIndex: 5718 entries, 0 to 5717\n",
      "Data columns (total 21 columns):\n",
      " #   Column               Non-Null Count  Dtype  \n",
      "---  ------               --------------  -----  \n",
      " 0   year                 5718 non-null   int64  \n",
      " 1   month                5718 non-null   int64  \n",
      " 2   carrier              5718 non-null   object \n",
      " 3   carrier_name         5718 non-null   object \n",
      " 4   airport              5718 non-null   object \n",
      " 5   airport_name         5718 non-null   object \n",
      " 6   arr_flights          5718 non-null   float64\n",
      " 7   arr_del15            5717 non-null   float64\n",
      " 8   carrier_ct           5718 non-null   float64\n",
      " 9   weather_ct           5718 non-null   float64\n",
      " 10  nas_ct               5718 non-null   float64\n",
      " 11  security_ct          5718 non-null   float64\n",
      " 12  late_aircraft_ct     5718 non-null   float64\n",
      " 13  arr_cancelled        5718 non-null   float64\n",
      " 14  arr_diverted         5718 non-null   float64\n",
      " 15  arr_delay            5718 non-null   float64\n",
      " 16  carrier_delay        5718 non-null   float64\n",
      " 17  weather_delay        5718 non-null   float64\n",
      " 18  nas_delay            5718 non-null   float64\n",
      " 19  security_delay       5718 non-null   float64\n",
      " 20  late_aircraft_delay  5718 non-null   float64\n",
      "dtypes: float64(15), int64(2), object(4)\n",
      "memory usage: 938.2+ KB\n",
      "None\n"
     ]
    }
   ],
   "source": [
    "import pandas as pd\n",
    "\n",
    "df = pd.read_csv('data/Airline_Delay_Cause.csv')\n",
    "\n",
    "print(df.head())\n",
    "print(df.info())\n"
   ]
  },
  {
   "cell_type": "markdown",
   "id": "2758a928-77c5-4359-b2db-4a422bf73943",
   "metadata": {},
   "source": [
    "## 5. Data Inspection\n",
    "\n",
    "Check for missing values, unique values, and understand the structure of the data.\n"
   ]
  },
  {
   "cell_type": "code",
   "execution_count": 21,
   "id": "38dd0f8e-0b63-40ff-be04-9b01d08e22a4",
   "metadata": {},
   "outputs": [
    {
     "name": "stdout",
     "output_type": "stream",
     "text": [
      "['G7' 'HA' 'MQ' 'NK' 'OH' 'OO' 'PT' 'QX' 'UA' 'WN' 'YV' 'YX' 'ZW' '9E'\n",
      " 'AA' 'AS' 'B6' 'C5' 'DL' 'F9' 'G4']\n",
      "['ICT' 'ILM' 'IND' 'ITH' 'LEX' 'LGA' 'LIT' 'LNK' 'MDT' 'MEM' 'MHT' 'MLI'\n",
      " 'MSN' 'OMA' 'ORD' 'ORF' 'PHL' 'PIT' 'PVD' 'PWM' 'RDU' 'RIC' 'ROA' 'ROC'\n",
      " 'SAV' 'SCE' 'SDF' 'SGF' 'STL' 'SYR' 'TUL' 'TVC' 'TYS' 'XNA' 'AUS' 'BOS'\n",
      " 'HNL' 'ITO' 'JFK' 'KOA' 'LAS' 'LAX' 'LGB' 'LIH' 'OAK' 'OGG' 'ONT' 'PDX'\n",
      " 'PHX' 'PPG' 'SAN' 'SEA' 'SFO' 'SJC' 'SLC' 'SMF' 'ABI' 'ABQ' 'AGS' 'ALB'\n",
      " 'AMA' 'ATL' 'ATW' 'AVL' 'AVP' 'BDL' 'BFL' 'BHM' 'BIL' 'BIS' 'BMI' 'BNA'\n",
      " 'BOI' 'BRO' 'BTR' 'BUF' 'BWI' 'CAE' 'CHA' 'CHS' 'CID' 'CLD' 'CLE' 'CLT'\n",
      " 'CMH' 'CMI' 'COS' 'COU' 'CRP' 'CVG' 'CWA' 'DAY' 'DCA' 'DEN' 'DFW' 'DSM'\n",
      " 'DTW' 'ECP' 'ELP' 'EUG' 'EVV' 'EWR' 'EYW' 'FAR' 'FSD' 'FSM' 'FWA' 'GCK'\n",
      " 'GNV' 'GPT' 'GRK' 'GRR' 'GSO' 'GSP' 'HDN' 'HHH' 'HOU' 'HPN' 'HRL' 'HSV'\n",
      " 'IAH' 'JAX' 'LAN' 'LBB' 'LFT' 'LRD' 'LSE' 'MAF' 'MCI' 'MFE' 'MHK' 'MIA'\n",
      " 'MKE' 'MLU' 'MQT' 'MRY' 'MSO' 'MSP' 'MSY' 'MTJ' 'MYR' 'OKC' 'PBI' 'PIA'\n",
      " 'PNS' 'RAP' 'RDM' 'RNO' 'RSW' 'SAT' 'SBA' 'SBP' 'SHV' 'SRQ' 'STS' 'TLH'\n",
      " 'TPA' 'TRI' 'TUS' 'VPS' 'YUM' 'ACY' 'BUR' 'FLL' 'LBE' 'MCO' 'SJU' 'SNA'\n",
      " 'STT' 'STX' 'ABE' 'BGR' 'BTV' 'CAK' 'CRW' 'DAB' 'EWN' 'FAY' 'IAD' 'JAN'\n",
      " 'MGM' 'MLB' 'MOB' 'OAJ' 'SBN' 'ABR' 'ABY' 'ACT' 'ACV' 'AEX' 'APN' 'ASE'\n",
      " 'AZO' 'BFF' 'BIH' 'BJI' 'BLI' 'BPT' 'BRD' 'BTM' 'BZN' 'CDC' 'CHO' 'CIU'\n",
      " 'CLL' 'CMX' 'COD' 'CPR' 'CYS' 'DDC' 'DEC' 'DIK' 'DLH' 'DRO' 'DVL' 'EAR'\n",
      " 'EAU' 'EGE' 'EKO' 'ELM' 'ESC' 'FAT' 'FCA' 'FLG' 'FNT' 'FOD' 'GCC' 'GEG'\n",
      " 'GFK' 'GGG' 'GJT' 'GRB' 'GRI' 'GTF' 'GUC' 'HIB' 'HLN' 'HOB' 'HYS' 'IDA'\n",
      " 'IMT' 'INL' 'JAC' 'JLN' 'JMS' 'JST' 'LAR' 'LAW' 'LBF' 'LBL' 'LCH' 'LWS'\n",
      " 'MBS' 'MCW' 'MDW' 'MEI' 'MFR' 'MGW' 'MOT' 'OTH' 'PIB' 'PIH' 'PLN' 'PRC'\n",
      " 'PSC' 'PSP' 'PVU' 'RDD' 'RHI' 'RIW' 'RKS' 'ROW' 'SAF' 'SGU' 'SHR' 'SJT'\n",
      " 'SLN' 'SPS' 'SUN' 'SUX' 'SWO' 'TWF' 'TXK' 'TYR' 'VCT' 'XWA' 'ALO' 'ART'\n",
      " 'ERI' 'FLO' 'HTS' 'LYH' 'PGV' 'PHF' 'RST' 'SBY' 'AKN' 'ALW' 'ANC' 'BET'\n",
      " 'BRW' 'DLG' 'EAT' 'FAI' 'OME' 'OTZ' 'PAE' 'PUW' 'YKM' 'BQN' 'GUM' 'SPN'\n",
      " 'DAL' 'ISP' 'ORH' 'SPI' 'BGM' 'BQK' 'CSG' 'DHN' 'GTR' 'VLD' 'ADK' 'ADQ'\n",
      " 'CDV' 'JNU' 'KTN' 'PSG' 'SCC' 'SIT' 'WRG' 'YAK' 'PQI' 'PSE' 'TTN' 'AZA'\n",
      " 'BLV' 'CKB' 'HGR' 'IAG' 'LCK' 'PBG' 'PGD' 'PIE' 'PSM' 'RFD' 'SCK' 'SFB'\n",
      " 'SMX' 'STC' 'SWF' 'TOL' 'USA']\n"
     ]
    }
   ],
   "source": [
    "# Missing values\n",
    "df.isnull().sum()\n",
    "\n",
    "# Example: Unique carriers and airports\n",
    "print(df['carrier'].unique())\n",
    "print(df['airport'].unique())\n"
   ]
  },
  {
   "cell_type": "markdown",
   "id": "d3eca76d-b923-4f01-8820-2fb10f4928da",
   "metadata": {},
   "source": [
    "## 6. Data Cleaning\n",
    "\n",
    "Apply basic cleaning:\n",
    "- Drop irrelevant rows or columns\n",
    "- Handle missing values\n",
    "- Create new columns if needed\n"
   ]
  },
  {
   "cell_type": "code",
   "execution_count": 28,
   "id": "c0ac5a0f-83c3-4d8a-af00-e6b340e3d183",
   "metadata": {},
   "outputs": [],
   "source": [
    "# Example: Drop rows with zero flights if needed\n",
    "df = df[df['arr_flights'] > 0]\n",
    "\n",
    "# Example: Create total delay column\n",
    "df['total_delay'] = df['carrier_delay'] + df['weather_delay'] + df['late_aircraft_delay'] + df['security_delay']\n"
   ]
  },
  {
   "cell_type": "markdown",
   "id": "1eab8151-f8c7-448f-952c-92e277e7b55f",
   "metadata": {},
   "source": [
    "### ✔️ Verify Data Cleaning\n",
    "\n",
    "Check that rows with zero flights were dropped and the new `total_delay` column was added correctly.\n"
   ]
  },
  {
   "cell_type": "code",
   "execution_count": 30,
   "id": "1a15e2c2-4704-4dbe-b6a7-1b987e31b88e",
   "metadata": {},
   "outputs": [
    {
     "name": "stdout",
     "output_type": "stream",
     "text": [
      "(5718, 22)\n",
      "   carrier_delay  weather_delay  late_aircraft_delay  security_delay  \\\n",
      "0          253.0          100.0                545.0             0.0   \n",
      "1          512.0          744.0                517.0             0.0   \n",
      "2            0.0            0.0                  0.0             0.0   \n",
      "3          542.0            0.0                759.0             0.0   \n",
      "4          809.0            0.0               1977.0             0.0   \n",
      "\n",
      "   total_delay  \n",
      "0        898.0  \n",
      "1       1773.0  \n",
      "2          0.0  \n",
      "3       1301.0  \n",
      "4       2786.0  \n"
     ]
    }
   ],
   "source": [
    "# Check the shape before and after to confirm rows were dropped\n",
    "print(df.shape)\n",
    "\n",
    "# Check new total_delay column\n",
    "print(df[['carrier_delay', 'weather_delay', 'late_aircraft_delay', 'security_delay', 'total_delay']].head())\n"
   ]
  },
  {
   "cell_type": "markdown",
   "id": "6cbb316a-bf2b-4ff8-bab8-adf5227079d0",
   "metadata": {},
   "source": [
    "## 7. Exploratory Data Analysis (EDA)\n",
    "\n",
    "In this section, we explore the cleaned airline on-time performance dataset to answer practical business questions:\n",
    "- Which airlines have the highest average total delays?\n",
    "- Which airports have the highest total delays?\n",
    "- What are the most common causes of delays?\n",
    "\n",
    "We start by calculating and visualizing the average total delay by airline carrier.\n"
   ]
  },
  {
   "cell_type": "markdown",
   "id": "69220eac-06cd-41ff-92a1-9def53aade29",
   "metadata": {},
   "source": [
    "### ✈️ Average Total Delay by Airline Carrier\n",
    "\n",
    "We calculate the average total delay for each airline carrier to see which ones have the worst performance.\n"
   ]
  },
  {
   "cell_type": "code",
   "execution_count": 34,
   "id": "0f6eae30-dc23-4700-a0ae-ee441c5f96f1",
   "metadata": {},
   "outputs": [
    {
     "name": "stdout",
     "output_type": "stream",
     "text": [
      "carrier_name\n",
      "American Airlines Network    8771.267806\n",
      "Southwest Airlines           7686.057692\n",
      "Delta Air Lines Network      6114.570071\n",
      "PSA Airlines Inc.            4579.535971\n",
      "United Air Lines Network     4418.423295\n",
      "JetBlue Airways              4403.807018\n",
      "SkyWest Airlines Inc.        3994.716292\n",
      "Frontier Airlines            3274.106996\n",
      "Hawaiian Airlines Network    2544.515152\n",
      "Republic Airline             2341.023810\n",
      "Name: total_delay, dtype: float64\n"
     ]
    }
   ],
   "source": [
    "# Calculate average total delay by carrier\n",
    "avg_delay_carrier = df.groupby('carrier_name')['total_delay'].mean().sort_values(ascending=False)\n",
    "\n",
    "# Show top 10\n",
    "print(avg_delay_carrier.head(10))\n"
   ]
  },
  {
   "cell_type": "markdown",
   "id": "6030771e-953d-4b37-aab3-8509c2489769",
   "metadata": {},
   "source": [
    "We calculate the average total delay for each airline to identify carriers with the worst on-time performance.\n"
   ]
  },
  {
   "cell_type": "markdown",
   "id": "223176e4-cff2-44e8-8faf-32af6a35c80a",
   "metadata": {},
   "source": [
    "### 🛫 Total Delay by Airport\n",
    "\n",
    "Now, we calculate the total delay minutes for each airport to identify which airports contribute most to overall delays.\n"
   ]
  },
  {
   "cell_type": "code",
   "execution_count": 38,
   "id": "cff82fda-2bfd-4333-af23-39e6555036ba",
   "metadata": {},
   "outputs": [
    {
     "name": "stdout",
     "output_type": "stream",
     "text": [
      "airport\n",
      "DFW    1113807.0\n",
      "ORD    1058457.0\n",
      "ATL     977278.0\n",
      "CLT     783422.0\n",
      "DEN     749480.0\n",
      "DCA     568606.0\n",
      "PHX     503489.0\n",
      "LAX     452869.0\n",
      "MCO     437942.0\n",
      "PHL     431911.0\n",
      "Name: total_delay, dtype: float64\n"
     ]
    }
   ],
   "source": [
    "# Calculate total delay by airport\n",
    "total_delay_airport = df.groupby('airport')['total_delay'].sum().sort_values(ascending=False)\n",
    "\n",
    "# Show top 10 airports\n",
    "print(total_delay_airport.head(10))\n"
   ]
  },
  {
   "cell_type": "markdown",
   "id": "95f19802-f938-4b20-b512-64c31d0af254",
   "metadata": {},
   "source": [
    "### 📊 Visualize: Total Delay by Airport\n",
    "\n",
    "Plot a bar chart for the top 10 airports with the highest total delays.\n"
   ]
  },
  {
   "cell_type": "code",
   "execution_count": 43,
   "id": "7a4d0191-4a38-41de-8576-c58c89aa7adf",
   "metadata": {},
   "outputs": [
    {
     "data": {
      "image/png": "[encoded data removed]",
      "text/plain": [
       "<Figure size 1000x600 with 1 Axes>"
      ]
     },
     "metadata": {},
     "output_type": "display_data"
    }
   ],
   "source": [
    "import matplotlib.pyplot as plt  # ✅ Run this once!\n",
    "\n",
    "# Then your plot code\n",
    "total_delay_airport.head(10).plot(kind='barh', figsize=(10, 6))\n",
    "plt.title('Top 10 Airports by Total Delay')\n",
    "plt.xlabel('Total Delay (minutes)')\n",
    "plt.ylabel('Airport')\n",
    "plt.show()\n"
   ]
  },
  {
   "cell_type": "markdown",
   "id": "dbab4941-845e-42b9-92ee-fe9bfce6012c",
   "metadata": {},
   "source": [
    "This bar chart shows the top 10 airports with the highest total delays.\n"
   ]
  },
  {
   "cell_type": "markdown",
   "id": "dc7a1b8e-1992-4e9e-9105-4bcbb20f8de3",
   "metadata": {},
   "source": [
    "### ⏱️ Total Delay by Cause\n",
    "\n",
    "Finally, we analyze the main delay causes — carrier, weather, NAS (National Aviation System), security, and late aircraft — \n",
    "to see which ones contribute most to overall delays.\n"
   ]
  },
  {
   "cell_type": "code",
   "execution_count": 48,
   "id": "9b5ef17a-6090-458b-9c3c-562529d22dd2",
   "metadata": {},
   "outputs": [
    {
     "name": "stdout",
     "output_type": "stream",
     "text": [
      "late_aircraft_delay    9755644.0\n",
      "carrier_delay          8547900.0\n",
      "weather_delay          1863814.0\n",
      "security_delay           30813.0\n",
      "dtype: float64\n"
     ]
    }
   ],
   "source": [
    "# Sum each major delay cause across all flights\n",
    "delay_causes = df[['carrier_delay', 'weather_delay', 'late_aircraft_delay', 'security_delay']].sum()\n",
    "\n",
    "# Put it in descending order\n",
    "delay_causes = delay_causes.sort_values(ascending=False)\n",
    "\n",
    "print(delay_causes)\n"
   ]
  },
  {
   "cell_type": "markdown",
   "id": "6a8c9785-7b1e-4220-833b-5575c729cbb7",
   "metadata": {},
   "source": [
    "### 📊 Visualize: Total Delay by Cause\n",
    "\n",
    "We plot a simple bar chart to show which delay causes contribute the most.\n"
   ]
  },
  {
   "cell_type": "code",
   "execution_count": 51,
   "id": "e40eb554-f411-4a20-ae67-55c432e7fc0c",
   "metadata": {},
   "outputs": [
    {
     "data": {
      "image/png": "[encoded data removed]",
      "text/plain": [
       "<Figure size 800x500 with 1 Axes>"
      ]
     },
     "metadata": {},
     "output_type": "display_data"
    }
   ],
   "source": [
    "delay_causes.plot(kind='bar', figsize=(8, 5))\n",
    "plt.title('Total Delay by Cause')\n",
    "plt.ylabel('Total Delay (minutes)')\n",
    "plt.xticks(rotation=45)\n",
    "plt.show()\n"
   ]
  },
  {
   "cell_type": "markdown",
   "id": "3bf6a9e5-60cb-43b2-91e3-bec626260c6b",
   "metadata": {},
   "source": [
    "## ✨ Insights & Recommendations\n",
    "\n",
    "- The top airlines with the highest **average delays** are *American Airlines Network*, *Southwest Airlines*, and *Delta Air Lines Network*. These carriers may need to review their scheduling, maintenance, or turnaround processes to reduce delays.\n",
    "\n",
    "- The busiest airports with the **highest total delay minutes** are *DFW*, *ORD*, and *ATL*. These airports could benefit from improved air traffic coordination and better resource allocation during peak hours.\n",
    "\n",
    "- **Late aircraft** and **carrier delays** are the largest contributors to total delay time overall — much higher than weather or security delays. This suggests that better operational planning and tighter connections between flights could reduce late aircraft delays.\n",
    "\n",
    "- To improve on-time performance, airlines should:\n",
    "  - Optimize turnaround times and gate management.\n",
    "  - Improve communication with ground operations and connecting flights.\n",
    "  - Monitor and proactively manage flights with frequent late aircraft delays.\n",
    "\n",
    "These insights help airlines and airport managers focus their efforts where they will have the biggest impact.\n"
   ]
  },
  {
   "cell_type": "code",
   "execution_count": 57,
   "id": "48fecc9b-ca51-4e9f-86f6-0fa1f9dfcdbd",
   "metadata": {},
   "outputs": [],
   "source": [
    "# Export cleaned dataset for Tableau\n",
    "df.to_csv('data/Airline_Delay_Cause_CLEAN.csv', index=False)\n"
   ]
  }
 ],
 "metadata": {
  "kernelspec": {
   "display_name": "Python 3 (ipykernel)",
   "language": "python",
   "name": "python3"
  },
  "language_info": {
   "codemirror_mode": {
    "name": "ipython",
    "version": 3
   },
   "file_extension": ".py",
   "mimetype": "text/x-python",
   "name": "python",
   "nbconvert_exporter": "python",
   "pygments_lexer": "ipython3",
   "version": "3.12.4"
  }
 },
 "nbformat": 4,
 "nbformat_minor": 5
}
